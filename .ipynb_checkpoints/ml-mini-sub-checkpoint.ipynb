{
 "cells": [
  {
   "cell_type": "code",
   "execution_count": 256,
   "metadata": {
    "_cell_guid": "b1076dfc-b9ad-4769-8c92-a6c4dae69d19",
    "_uuid": "8f2839f25d086af736a60e9eeb907d3b93b6e0e5",
    "execution": {
     "iopub.execute_input": "2023-01-16T12:28:33.839492Z",
     "iopub.status.busy": "2023-01-16T12:28:33.839094Z",
     "iopub.status.idle": "2023-01-16T12:28:33.856814Z",
     "shell.execute_reply": "2023-01-16T12:28:33.855060Z",
     "shell.execute_reply.started": "2023-01-16T12:28:33.839433Z"
    }
   },
   "outputs": [
    {
     "name": "stdout",
     "output_type": "stream",
     "text": [
      "/kaggle/input/amexfeather/test_data_f32.ftr\n",
      "/kaggle/input/amexfeather/train_data.ftr\n",
      "/kaggle/input/amexfeather/train_data_f32.ftr\n",
      "/kaggle/input/amexfeather/test_data.ftr\n",
      "/kaggle/input/amex-default-prediction/sample_submission.csv\n",
      "/kaggle/input/amex-default-prediction/train_data.csv\n",
      "/kaggle/input/amex-default-prediction/test_data.csv\n",
      "/kaggle/input/amex-default-prediction/train_labels.csv\n",
      "/kaggle/input/feature-importances/feature_importances.csv\n"
     ]
    }
   ],
   "source": [
    "import numpy as np\n",
    "import pandas as pd\n",
    "import seaborn as sns\n",
    "import matplotlib.pyplot as plt\n",
    "import gc\n",
    "\n",
    "import warnings\n",
    "warnings.filterwarnings(\"ignore\")\n",
    "\n",
    "import os\n",
    "for dirname, _, filenames in os.walk('/kaggle/input'):\n",
    "    for filename in filenames:\n",
    "        print(os.path.join(dirname, filename))"
   ]
  },
  {
   "cell_type": "code",
   "execution_count": 257,
   "metadata": {
    "execution": {
     "iopub.execute_input": "2023-01-16T12:28:33.897870Z",
     "iopub.status.busy": "2023-01-16T12:28:33.897467Z",
     "iopub.status.idle": "2023-01-16T12:28:53.868798Z",
     "shell.execute_reply": "2023-01-16T12:28:53.867037Z",
     "shell.execute_reply.started": "2023-01-16T12:28:33.897839Z"
    }
   },
   "outputs": [],
   "source": [
    "train_dataset_ = pd.read_feather('../input/amexfeather/train_data.ftr')\n",
    "# Keep the latest statement features for each customer\n",
    "train_dataset = train_dataset_.groupby('customer_ID').tail(1).set_index('customer_ID', drop=True).sort_index()\n",
    "# train_dataset = train_dataset.reset_index(drop = False)"
   ]
  },
  {
   "cell_type": "code",
   "execution_count": 258,
   "metadata": {
    "execution": {
     "iopub.execute_input": "2023-01-16T12:28:53.871758Z",
     "iopub.status.busy": "2023-01-16T12:28:53.871280Z",
     "iopub.status.idle": "2023-01-16T12:28:54.004308Z",
     "shell.execute_reply": "2023-01-16T12:28:54.002758Z",
     "shell.execute_reply.started": "2023-01-16T12:28:53.871718Z"
    }
   },
   "outputs": [
    {
     "data": {
      "text/plain": [
       "customer_ID\n",
       "0000099d6bd597052cdcda90ffabf56573fe9d7c79be5fbac11a8ed792feb62a    0\n",
       "00000fd6641609c6ece5454664794f0340ad84dddce9a267a310b5ae68e9d8e5    0\n",
       "00001b22f846c82c51f6e3958ccd81970162bae8b007e80662ef27519fcc18c1    0\n",
       "000041bdba6ecadd89a52d11886e8eaaec9325906c9723355abb5ca523658edc    0\n",
       "00007889e4fcd2614b6cbe7f8f3d2e5c728eca32d9eb8ad51ca8b8c4a24cefed    0\n",
       "                                                                   ..\n",
       "ffff41c8a52833b56430603969b9ca48d208e7c192c6a4081a6acc28cf4f8af7    0\n",
       "ffff518bb2075e4816ee3fe9f3b152c57fc0e6f01bf7fdd3e5b57cfcbee30286    0\n",
       "ffff9984b999fccb2b6127635ed0736dda94e544e67e026eee4d20f680639ff6    0\n",
       "ffffa5c46bc8de74f5a4554e74e239c8dee6b9baf388145b2c3d01967fcce461    1\n",
       "fffff1d38b785cef84adeace64f8f83db3a0c31e8d92eaba8b115f71cab04681    0\n",
       "Name: target, Length: 458913, dtype: int64"
      ]
     },
     "execution_count": 258,
     "metadata": {},
     "output_type": "execute_result"
    }
   ],
   "source": [
    "train_dataset['target']"
   ]
  },
  {
   "cell_type": "code",
   "execution_count": 259,
   "metadata": {
    "execution": {
     "iopub.execute_input": "2023-01-16T12:28:54.007010Z",
     "iopub.status.busy": "2023-01-16T12:28:54.006515Z",
     "iopub.status.idle": "2023-01-16T12:28:54.581925Z",
     "shell.execute_reply": "2023-01-16T12:28:54.580633Z",
     "shell.execute_reply.started": "2023-01-16T12:28:54.006975Z"
    }
   },
   "outputs": [
    {
     "data": {
      "text/plain": [
       "13721"
      ]
     },
     "execution_count": 259,
     "metadata": {},
     "output_type": "execute_result"
    }
   ],
   "source": [
    "del train_dataset_\n",
    "gc.collect()"
   ]
  },
  {
   "cell_type": "code",
   "execution_count": 260,
   "metadata": {
    "execution": {
     "iopub.execute_input": "2023-01-16T12:28:54.584973Z",
     "iopub.status.busy": "2023-01-16T12:28:54.584587Z",
     "iopub.status.idle": "2023-01-16T12:28:54.831254Z",
     "shell.execute_reply": "2023-01-16T12:28:54.829380Z",
     "shell.execute_reply.started": "2023-01-16T12:28:54.584934Z"
    }
   },
   "outputs": [],
   "source": [
    "percent_missing = train_dataset.isnull().sum() * 100 / len(train_dataset)\n",
    "missing_value_df = pd.DataFrame({'column_name': train_dataset.columns,\n",
    "                                 'percent_missing': percent_missing})"
   ]
  },
  {
   "cell_type": "code",
   "execution_count": 261,
   "metadata": {
    "execution": {
     "iopub.execute_input": "2023-01-16T12:28:54.833049Z",
     "iopub.status.busy": "2023-01-16T12:28:54.832729Z",
     "iopub.status.idle": "2023-01-16T12:28:54.843070Z",
     "shell.execute_reply": "2023-01-16T12:28:54.841505Z",
     "shell.execute_reply.started": "2023-01-16T12:28:54.833024Z"
    }
   },
   "outputs": [
    {
     "data": {
      "text/plain": [
       "108"
      ]
     },
     "execution_count": 261,
     "metadata": {},
     "output_type": "execute_result"
    }
   ],
   "source": [
    "high_null_columns = missing_value_df[missing_value_df['percent_missing'] > 0].column_name.to_list()\n",
    "len(high_null_columns)"
   ]
  },
  {
   "cell_type": "code",
   "execution_count": 262,
   "metadata": {
    "execution": {
     "iopub.execute_input": "2023-01-16T12:28:54.845148Z",
     "iopub.status.busy": "2023-01-16T12:28:54.844691Z",
     "iopub.status.idle": "2023-01-16T12:28:54.857846Z",
     "shell.execute_reply": "2023-01-16T12:28:54.856511Z",
     "shell.execute_reply.started": "2023-01-16T12:28:54.845107Z"
    }
   },
   "outputs": [
    {
     "data": {
      "text/plain": [
       "(167, 2)"
      ]
     },
     "execution_count": 262,
     "metadata": {},
     "output_type": "execute_result"
    }
   ],
   "source": [
    "missing_value_df[missing_value_df['percent_missing'] < 75].shape"
   ]
  },
  {
   "cell_type": "code",
   "execution_count": 263,
   "metadata": {
    "execution": {
     "iopub.execute_input": "2023-01-16T12:28:54.859888Z",
     "iopub.status.busy": "2023-01-16T12:28:54.859329Z",
     "iopub.status.idle": "2023-01-16T12:28:54.872085Z",
     "shell.execute_reply": "2023-01-16T12:28:54.871171Z",
     "shell.execute_reply.started": "2023-01-16T12:28:54.859853Z"
    }
   },
   "outputs": [
    {
     "data": {
      "text/plain": [
       "(82, 2)"
      ]
     },
     "execution_count": 263,
     "metadata": {},
     "output_type": "execute_result"
    }
   ],
   "source": [
    "missing_value_df[missing_value_df['percent_missing'] == 0].shape"
   ]
  },
  {
   "cell_type": "code",
   "execution_count": 264,
   "metadata": {
    "execution": {
     "iopub.execute_input": "2023-01-16T12:28:54.874581Z",
     "iopub.status.busy": "2023-01-16T12:28:54.874102Z",
     "iopub.status.idle": "2023-01-16T12:28:54.996714Z",
     "shell.execute_reply": "2023-01-16T12:28:54.995257Z",
     "shell.execute_reply.started": "2023-01-16T12:28:54.874501Z"
    }
   },
   "outputs": [],
   "source": [
    "#dropping columns with high null value percentages\n",
    "train_dataset = train_dataset.drop(['S_2','D_66','D_42','D_49','D_73','D_76','R_9','B_29','D_87','D_88','D_106','R_26','D_108','D_110','D_111','B_39','B_42','D_132','D_134','D_135','D_136','D_137','D_138','D_142'], axis=1)"
   ]
  },
  {
   "cell_type": "code",
   "execution_count": 265,
   "metadata": {
    "execution": {
     "iopub.execute_input": "2023-01-16T12:28:54.998379Z",
     "iopub.status.busy": "2023-01-16T12:28:54.998004Z",
     "iopub.status.idle": "2023-01-16T12:28:55.007018Z",
     "shell.execute_reply": "2023-01-16T12:28:55.005507Z",
     "shell.execute_reply.started": "2023-01-16T12:28:54.998345Z"
    }
   },
   "outputs": [
    {
     "data": {
      "text/plain": [
       "(458913, 166)"
      ]
     },
     "execution_count": 265,
     "metadata": {},
     "output_type": "execute_result"
    }
   ],
   "source": [
    "train_dataset.shape"
   ]
  },
  {
   "cell_type": "code",
   "execution_count": 266,
   "metadata": {
    "execution": {
     "iopub.execute_input": "2023-01-16T12:28:55.011710Z",
     "iopub.status.busy": "2023-01-16T12:28:55.011245Z",
     "iopub.status.idle": "2023-01-16T12:29:40.398730Z",
     "shell.execute_reply": "2023-01-16T12:29:40.396369Z",
     "shell.execute_reply.started": "2023-01-16T12:28:55.011657Z"
    }
   },
   "outputs": [],
   "source": [
    "test_dataset_ = pd.read_feather('../input/amexfeather/test_data.ftr')\n",
    "# Keep the latest statement features for each customer\n",
    "test_dataset = test_dataset_.groupby('customer_ID').tail(1).set_index('customer_ID', drop=True).sort_index()\n",
    "# test_dataset = test_dataset.reset_index(drop = False)"
   ]
  },
  {
   "cell_type": "code",
   "execution_count": 267,
   "metadata": {
    "execution": {
     "iopub.execute_input": "2023-01-16T12:29:40.401906Z",
     "iopub.status.busy": "2023-01-16T12:29:40.401183Z",
     "iopub.status.idle": "2023-01-16T12:29:41.319952Z",
     "shell.execute_reply": "2023-01-16T12:29:41.317054Z",
     "shell.execute_reply.started": "2023-01-16T12:29:40.401839Z"
    }
   },
   "outputs": [
    {
     "data": {
      "text/plain": [
       "23"
      ]
     },
     "execution_count": 267,
     "metadata": {},
     "output_type": "execute_result"
    }
   ],
   "source": [
    "del test_dataset_\n",
    "gc.collect()"
   ]
  },
  {
   "cell_type": "code",
   "execution_count": 268,
   "metadata": {
    "execution": {
     "iopub.execute_input": "2023-01-16T12:29:41.325829Z",
     "iopub.status.busy": "2023-01-16T12:29:41.323837Z",
     "iopub.status.idle": "2023-01-16T12:29:41.941577Z",
     "shell.execute_reply": "2023-01-16T12:29:41.939090Z",
     "shell.execute_reply.started": "2023-01-16T12:29:41.325754Z"
    }
   },
   "outputs": [],
   "source": [
    "test_dataset = test_dataset.drop(['S_2','D_42','D_49','D_66','D_73','D_76','R_9','B_29','D_87','D_88','D_106','R_26','D_108','D_110','D_111','B_39','B_42','D_132','D_134','D_135','D_136','D_137','D_138','D_142'], axis=1)"
   ]
  },
  {
   "cell_type": "code",
   "execution_count": 269,
   "metadata": {
    "execution": {
     "iopub.execute_input": "2023-01-16T12:29:41.945836Z",
     "iopub.status.busy": "2023-01-16T12:29:41.944771Z",
     "iopub.status.idle": "2023-01-16T12:29:41.976056Z",
     "shell.execute_reply": "2023-01-16T12:29:41.973565Z",
     "shell.execute_reply.started": "2023-01-16T12:29:41.945757Z"
    }
   },
   "outputs": [
    {
     "name": "stdout",
     "output_type": "stream",
     "text": [
      "['D_63', 'D_64', 'D_68', 'B_30', 'B_38', 'D_114', 'D_116', 'D_117', 'D_120', 'D_126']\n",
      "10\n"
     ]
    }
   ],
   "source": [
    "categorical_columns = train_dataset.select_dtypes(exclude = 'number').columns.to_list()\n",
    "print(categorical_columns)\n",
    "print(len(categorical_columns))"
   ]
  },
  {
   "cell_type": "code",
   "execution_count": 270,
   "metadata": {
    "execution": {
     "iopub.execute_input": "2023-01-16T12:29:41.981180Z",
     "iopub.status.busy": "2023-01-16T12:29:41.980099Z",
     "iopub.status.idle": "2023-01-16T12:29:41.995748Z",
     "shell.execute_reply": "2023-01-16T12:29:41.993758Z",
     "shell.execute_reply.started": "2023-01-16T12:29:41.981099Z"
    }
   },
   "outputs": [
    {
     "name": "stdout",
     "output_type": "stream",
     "text": [
      "Total number of features: 165\n",
      "Total number of categorical features: 10\n",
      "Total number of numerical features: 155\n"
     ]
    }
   ],
   "source": [
    "#categorical columns\n",
    "num_cols = [col for col in train_dataset.columns if col not in categorical_columns + [\"target\"]]\n",
    "\n",
    "print(f'Total number of features: {(train_dataset.shape[1])-1}')\n",
    "print(f'Total number of categorical features: {len(categorical_cols)}')\n",
    "print(f'Total number of numerical features: {len(num_cols)}')"
   ]
  },
  {
   "cell_type": "code",
   "execution_count": 271,
   "metadata": {
    "execution": {
     "iopub.execute_input": "2023-01-16T12:29:42.003314Z",
     "iopub.status.busy": "2023-01-16T12:29:42.000287Z",
     "iopub.status.idle": "2023-01-16T12:29:42.386570Z",
     "shell.execute_reply": "2023-01-16T12:29:42.383949Z",
     "shell.execute_reply.started": "2023-01-16T12:29:42.003244Z"
    }
   },
   "outputs": [
    {
     "name": "stdout",
     "output_type": "stream",
     "text": [
      "85\n",
      "78\n",
      "7\n"
     ]
    },
    {
     "data": {
      "text/plain": [
       "(None, None, None)"
      ]
     },
     "execution_count": 271,
     "metadata": {},
     "output_type": "execute_result"
    }
   ],
   "source": [
    "null_cols = train_dataset.columns[train_dataset.isna().any()].tolist()\n",
    "num_null_columns = set(null_cols) - set(categorical_cols)\n",
    "cat_null_cols = set(null_cols) - set(num_cols)\n",
    "print(len(null_cols)),print(len(num_null_columns)), print(len(cat_null_cols))"
   ]
  },
  {
   "cell_type": "code",
   "execution_count": 272,
   "metadata": {
    "execution": {
     "iopub.execute_input": "2023-01-16T12:29:42.392371Z",
     "iopub.status.busy": "2023-01-16T12:29:42.389681Z",
     "iopub.status.idle": "2023-01-16T12:29:44.258285Z",
     "shell.execute_reply": "2023-01-16T12:29:44.255427Z",
     "shell.execute_reply.started": "2023-01-16T12:29:42.392262Z"
    }
   },
   "outputs": [],
   "source": [
    "for col in list(num_null_columns):\n",
    "    train_dataset[col] = train_dataset[col].fillna(train_dataset[col].median())"
   ]
  },
  {
   "cell_type": "code",
   "execution_count": 273,
   "metadata": {
    "execution": {
     "iopub.execute_input": "2023-01-16T12:29:44.263307Z",
     "iopub.status.busy": "2023-01-16T12:29:44.261860Z",
     "iopub.status.idle": "2023-01-16T12:29:44.322805Z",
     "shell.execute_reply": "2023-01-16T12:29:44.319555Z",
     "shell.execute_reply.started": "2023-01-16T12:29:44.263233Z"
    }
   },
   "outputs": [],
   "source": [
    "for col2 in list(cat_null_cols):\n",
    "    train_dataset[col2] = train_dataset[col2].astype('category').cat.add_categories('unknown')\n",
    "    train_dataset[col2] = train_dataset[col2].fillna('unknown')"
   ]
  },
  {
   "cell_type": "code",
   "execution_count": 274,
   "metadata": {
    "execution": {
     "iopub.execute_input": "2023-01-16T12:29:44.328047Z",
     "iopub.status.busy": "2023-01-16T12:29:44.326567Z",
     "iopub.status.idle": "2023-01-16T12:29:44.344014Z",
     "shell.execute_reply": "2023-01-16T12:29:44.338085Z",
     "shell.execute_reply.started": "2023-01-16T12:29:44.327974Z"
    }
   },
   "outputs": [
    {
     "data": {
      "text/plain": [
       "False"
      ]
     },
     "execution_count": 274,
     "metadata": {},
     "output_type": "execute_result"
    }
   ],
   "source": [
    "train_dataset.columns.isna().any()"
   ]
  },
  {
   "cell_type": "code",
   "execution_count": 275,
   "metadata": {
    "execution": {
     "iopub.execute_input": "2023-01-16T12:29:44.351530Z",
     "iopub.status.busy": "2023-01-16T12:29:44.349195Z",
     "iopub.status.idle": "2023-01-16T12:29:45.084562Z",
     "shell.execute_reply": "2023-01-16T12:29:45.082218Z",
     "shell.execute_reply.started": "2023-01-16T12:29:44.351368Z"
    }
   },
   "outputs": [
    {
     "name": "stdout",
     "output_type": "stream",
     "text": [
      "92\n",
      "85\n",
      "7\n"
     ]
    },
    {
     "data": {
      "text/plain": [
       "(None, None, None)"
      ]
     },
     "execution_count": 275,
     "metadata": {},
     "output_type": "execute_result"
    }
   ],
   "source": [
    "null_cols = test_dataset.columns[test_dataset.isna().any()].tolist()\n",
    "num_null_columns = set(null_cols) - set(categorical_cols)\n",
    "cat_null_cols = set(null_cols) - set(num_cols)\n",
    "print(len(null_cols)),print(len(num_null_columns)), print(len(cat_null_cols))"
   ]
  },
  {
   "cell_type": "code",
   "execution_count": 276,
   "metadata": {
    "execution": {
     "iopub.execute_input": "2023-01-16T12:29:45.089223Z",
     "iopub.status.busy": "2023-01-16T12:29:45.088018Z",
     "iopub.status.idle": "2023-01-16T12:29:47.302367Z",
     "shell.execute_reply": "2023-01-16T12:29:47.299957Z",
     "shell.execute_reply.started": "2023-01-16T12:29:45.089128Z"
    }
   },
   "outputs": [],
   "source": [
    "for column in list(num_null_columns):\n",
    "    test_dataset[column] = test_dataset[column].fillna(train_dataset[col].median())"
   ]
  },
  {
   "cell_type": "code",
   "execution_count": 277,
   "metadata": {
    "execution": {
     "iopub.execute_input": "2023-01-16T12:29:47.306145Z",
     "iopub.status.busy": "2023-01-16T12:29:47.305254Z",
     "iopub.status.idle": "2023-01-16T12:29:47.349899Z",
     "shell.execute_reply": "2023-01-16T12:29:47.347803Z",
     "shell.execute_reply.started": "2023-01-16T12:29:47.306068Z"
    }
   },
   "outputs": [],
   "source": [
    "for column2 in list(cat_null_cols):\n",
    "    test_dataset[column2] = test_dataset[column2].astype('category').cat.add_categories('unknown')\n",
    "    test_dataset[column2] =  test_dataset[column2].fillna('unknown')"
   ]
  },
  {
   "cell_type": "code",
   "execution_count": 278,
   "metadata": {
    "execution": {
     "iopub.execute_input": "2023-01-16T12:29:47.355402Z",
     "iopub.status.busy": "2023-01-16T12:29:47.353533Z",
     "iopub.status.idle": "2023-01-16T12:29:47.369218Z",
     "shell.execute_reply": "2023-01-16T12:29:47.366940Z",
     "shell.execute_reply.started": "2023-01-16T12:29:47.355321Z"
    }
   },
   "outputs": [
    {
     "data": {
      "text/plain": [
       "False"
      ]
     },
     "execution_count": 278,
     "metadata": {},
     "output_type": "execute_result"
    }
   ],
   "source": [
    "train_dataset.columns.isna().any()"
   ]
  },
  {
   "cell_type": "code",
   "execution_count": 279,
   "metadata": {
    "execution": {
     "iopub.execute_input": "2023-01-16T12:29:47.373044Z",
     "iopub.status.busy": "2023-01-16T12:29:47.372244Z",
     "iopub.status.idle": "2023-01-16T12:29:47.386901Z",
     "shell.execute_reply": "2023-01-16T12:29:47.384050Z",
     "shell.execute_reply.started": "2023-01-16T12:29:47.372968Z"
    }
   },
   "outputs": [
    {
     "name": "stdout",
     "output_type": "stream",
     "text": [
      "(924621, 165)\n",
      "(458913, 166)\n"
     ]
    }
   ],
   "source": [
    "print(test_dataset.shape)\n",
    "print(train_dataset.shape)"
   ]
  },
  {
   "cell_type": "code",
   "execution_count": 280,
   "metadata": {
    "execution": {
     "iopub.execute_input": "2023-01-16T12:29:47.392152Z",
     "iopub.status.busy": "2023-01-16T12:29:47.391199Z",
     "iopub.status.idle": "2023-01-16T12:29:47.404566Z",
     "shell.execute_reply": "2023-01-16T12:29:47.402855Z",
     "shell.execute_reply.started": "2023-01-16T12:29:47.392034Z"
    }
   },
   "outputs": [],
   "source": [
    "# train_dataset_without_target = train_dataset.drop([\"target\"],axis=1)\n",
    "\n",
    "# cor_matrix = train_dataset_without_target.corr()\n",
    "# col_core = set()\n",
    "\n",
    "# for i in range(len(cor_matrix.columns)):\n",
    "#     for j in range(i):\n",
    "#         if(cor_matrix.iloc[i, j] > 0.9):\n",
    "#             col_name = cor_matrix.columns[i]\n",
    "#             col_core.add(col_name)\n",
    "# col_core"
   ]
  },
  {
   "cell_type": "code",
   "execution_count": 281,
   "metadata": {
    "execution": {
     "iopub.execute_input": "2023-01-16T12:29:47.407735Z",
     "iopub.status.busy": "2023-01-16T12:29:47.406596Z",
     "iopub.status.idle": "2023-01-16T12:29:47.422756Z",
     "shell.execute_reply": "2023-01-16T12:29:47.418757Z",
     "shell.execute_reply.started": "2023-01-16T12:29:47.407592Z"
    }
   },
   "outputs": [],
   "source": [
    "# train_dataset = train_dataset.drop(col_core, axis=1)\n",
    "# test_dataset = test_dataset.drop(col_core, axis=1)"
   ]
  },
  {
   "cell_type": "code",
   "execution_count": 282,
   "metadata": {
    "execution": {
     "iopub.execute_input": "2023-01-16T12:29:47.427489Z",
     "iopub.status.busy": "2023-01-16T12:29:47.426642Z",
     "iopub.status.idle": "2023-01-16T12:29:47.438116Z",
     "shell.execute_reply": "2023-01-16T12:29:47.435586Z",
     "shell.execute_reply.started": "2023-01-16T12:29:47.427399Z"
    }
   },
   "outputs": [],
   "source": [
    "# print(test_dataset.shape)\n",
    "# print(train_dataset.shape)"
   ]
  },
  {
   "cell_type": "code",
   "execution_count": 283,
   "metadata": {
    "execution": {
     "iopub.execute_input": "2023-01-16T12:29:47.441571Z",
     "iopub.status.busy": "2023-01-16T12:29:47.440941Z",
     "iopub.status.idle": "2023-01-16T12:29:47.647998Z",
     "shell.execute_reply": "2023-01-16T12:29:47.646360Z",
     "shell.execute_reply.started": "2023-01-16T12:29:47.441525Z"
    }
   },
   "outputs": [],
   "source": [
    "y = train_dataset['target']\n",
    "train_dataset = train_dataset.drop(['target'],1)"
   ]
  },
  {
   "cell_type": "code",
   "execution_count": 284,
   "metadata": {
    "execution": {
     "iopub.execute_input": "2023-01-16T12:29:47.660811Z",
     "iopub.status.busy": "2023-01-16T12:29:47.659638Z",
     "iopub.status.idle": "2023-01-16T12:29:47.670569Z",
     "shell.execute_reply": "2023-01-16T12:29:47.668682Z",
     "shell.execute_reply.started": "2023-01-16T12:29:47.660776Z"
    }
   },
   "outputs": [
    {
     "name": "stdout",
     "output_type": "stream",
     "text": [
      "X shape is = (458913, 165)\n",
      "Y shape is = (458913,)\n"
     ]
    }
   ],
   "source": [
    "print(f\"X shape is = {train_dataset.shape}\" )\n",
    "print(f\"Y shape is = {y.shape}\" )"
   ]
  },
  {
   "cell_type": "code",
   "execution_count": 285,
   "metadata": {
    "execution": {
     "iopub.execute_input": "2023-01-16T12:29:47.673583Z",
     "iopub.status.busy": "2023-01-16T12:29:47.673058Z",
     "iopub.status.idle": "2023-01-16T12:29:47.689127Z",
     "shell.execute_reply": "2023-01-16T12:29:47.685767Z",
     "shell.execute_reply.started": "2023-01-16T12:29:47.673518Z"
    }
   },
   "outputs": [
    {
     "name": "stdout",
     "output_type": "stream",
     "text": [
      "['D_63', 'D_64', 'D_68', 'B_30', 'B_38', 'D_114', 'D_116', 'D_117', 'D_120', 'D_126']\n"
     ]
    }
   ],
   "source": [
    "print(categorical_columns)"
   ]
  },
  {
   "cell_type": "code",
   "execution_count": 286,
   "metadata": {
    "execution": {
     "iopub.execute_input": "2023-01-16T12:29:47.693492Z",
     "iopub.status.busy": "2023-01-16T12:29:47.692540Z",
     "iopub.status.idle": "2023-01-16T12:29:51.268677Z",
     "shell.execute_reply": "2023-01-16T12:29:51.266100Z",
     "shell.execute_reply.started": "2023-01-16T12:29:47.693384Z"
    }
   },
   "outputs": [],
   "source": [
    "#encoding ctaegorical columns and reindex test data set's columns with train datas columns\n",
    "train_dataset = pd.get_dummies(train_dataset, columns = categorical_columns)\n",
    "test_dataset = pd.get_dummies(test_dataset, columns = categorical_columns)\n",
    "\n",
    "test_dataset = test_dataset.reindex(columns = train_dataset.columns, fill_value=0)"
   ]
  },
  {
   "cell_type": "code",
   "execution_count": 287,
   "metadata": {
    "execution": {
     "iopub.execute_input": "2023-01-16T12:29:51.272196Z",
     "iopub.status.busy": "2023-01-16T12:29:51.271621Z",
     "iopub.status.idle": "2023-01-16T12:29:51.279955Z",
     "shell.execute_reply": "2023-01-16T12:29:51.278228Z",
     "shell.execute_reply.started": "2023-01-16T12:29:51.272164Z"
    }
   },
   "outputs": [],
   "source": [
    "# for col in categorical_cols:\n",
    "#     test_dataset[col] =test_dataset[col].astype(str)"
   ]
  },
  {
   "cell_type": "code",
   "execution_count": 288,
   "metadata": {
    "execution": {
     "iopub.execute_input": "2023-01-16T12:29:51.284071Z",
     "iopub.status.busy": "2023-01-16T12:29:51.283151Z",
     "iopub.status.idle": "2023-01-16T12:29:51.303394Z",
     "shell.execute_reply": "2023-01-16T12:29:51.301040Z",
     "shell.execute_reply.started": "2023-01-16T12:29:51.283991Z"
    }
   },
   "outputs": [
    {
     "data": {
      "text/plain": [
       "(924621, 206)"
      ]
     },
     "execution_count": 288,
     "metadata": {},
     "output_type": "execute_result"
    }
   ],
   "source": [
    "test_dataset.shape"
   ]
  },
  {
   "cell_type": "code",
   "execution_count": 289,
   "metadata": {
    "execution": {
     "iopub.execute_input": "2023-01-16T12:29:51.307420Z",
     "iopub.status.busy": "2023-01-16T12:29:51.306655Z",
     "iopub.status.idle": "2023-01-16T12:29:51.331046Z",
     "shell.execute_reply": "2023-01-16T12:29:51.327956Z",
     "shell.execute_reply.started": "2023-01-16T12:29:51.307327Z"
    }
   },
   "outputs": [
    {
     "data": {
      "text/plain": [
       "float16    155\n",
       "uint8       51\n",
       "dtype: int64"
      ]
     },
     "execution_count": 289,
     "metadata": {},
     "output_type": "execute_result"
    }
   ],
   "source": [
    "train_dataset.dtypes.value_counts()"
   ]
  },
  {
   "cell_type": "code",
   "execution_count": 290,
   "metadata": {
    "execution": {
     "iopub.execute_input": "2023-01-16T12:29:51.338354Z",
     "iopub.status.busy": "2023-01-16T12:29:51.336925Z",
     "iopub.status.idle": "2023-01-16T12:29:51.345485Z",
     "shell.execute_reply": "2023-01-16T12:29:51.343752Z",
     "shell.execute_reply.started": "2023-01-16T12:29:51.338260Z"
    }
   },
   "outputs": [],
   "source": [
    "# import xgboost as xgb\n",
    "# selector_model = xgb.XGBClassifier()\n",
    "# selector_model.fit(train_dataset, y)"
   ]
  },
  {
   "cell_type": "code",
   "execution_count": 291,
   "metadata": {
    "execution": {
     "iopub.execute_input": "2023-01-16T12:29:51.350106Z",
     "iopub.status.busy": "2023-01-16T12:29:51.348401Z",
     "iopub.status.idle": "2023-01-16T12:29:51.364844Z",
     "shell.execute_reply": "2023-01-16T12:29:51.361184Z",
     "shell.execute_reply.started": "2023-01-16T12:29:51.349733Z"
    }
   },
   "outputs": [],
   "source": [
    "# k = 150\n",
    "# top_k_features = selector_model.feature_importances_.argsort()[-k:]"
   ]
  },
  {
   "cell_type": "code",
   "execution_count": 292,
   "metadata": {
    "execution": {
     "iopub.execute_input": "2023-01-16T12:29:51.369780Z",
     "iopub.status.busy": "2023-01-16T12:29:51.368621Z",
     "iopub.status.idle": "2023-01-16T12:29:51.386263Z",
     "shell.execute_reply": "2023-01-16T12:29:51.384519Z",
     "shell.execute_reply.started": "2023-01-16T12:29:51.369715Z"
    }
   },
   "outputs": [],
   "source": [
    "# feature_importances = selector_model.feature_importances_\n",
    "feat_imp_df = pd.read_csv('/kaggle/input/feature-importances/feature_importances.csv')\n"
   ]
  },
  {
   "cell_type": "code",
   "execution_count": 293,
   "metadata": {
    "execution": {
     "iopub.execute_input": "2023-01-16T12:29:51.390650Z",
     "iopub.status.busy": "2023-01-16T12:29:51.389632Z",
     "iopub.status.idle": "2023-01-16T12:29:52.775956Z",
     "shell.execute_reply": "2023-01-16T12:29:52.772887Z",
     "shell.execute_reply.started": "2023-01-16T12:29:51.390546Z"
    }
   },
   "outputs": [
    {
     "data": {
      "text/html": [
       "<div>\n",
       "<style scoped>\n",
       "    .dataframe tbody tr th:only-of-type {\n",
       "        vertical-align: middle;\n",
       "    }\n",
       "\n",
       "    .dataframe tbody tr th {\n",
       "        vertical-align: top;\n",
       "    }\n",
       "\n",
       "    .dataframe thead th {\n",
       "        text-align: right;\n",
       "    }\n",
       "</style>\n",
       "<table border=\"1\" class=\"dataframe\">\n",
       "  <thead>\n",
       "    <tr style=\"text-align: right;\">\n",
       "      <th></th>\n",
       "      <th>customer_ID</th>\n",
       "      <th>target</th>\n",
       "    </tr>\n",
       "  </thead>\n",
       "  <tbody>\n",
       "    <tr>\n",
       "      <th>0</th>\n",
       "      <td>0000099d6bd597052cdcda90ffabf56573fe9d7c79be5f...</td>\n",
       "      <td>0</td>\n",
       "    </tr>\n",
       "    <tr>\n",
       "      <th>1</th>\n",
       "      <td>00000fd6641609c6ece5454664794f0340ad84dddce9a2...</td>\n",
       "      <td>0</td>\n",
       "    </tr>\n",
       "    <tr>\n",
       "      <th>2</th>\n",
       "      <td>00001b22f846c82c51f6e3958ccd81970162bae8b007e8...</td>\n",
       "      <td>0</td>\n",
       "    </tr>\n",
       "    <tr>\n",
       "      <th>3</th>\n",
       "      <td>000041bdba6ecadd89a52d11886e8eaaec9325906c9723...</td>\n",
       "      <td>0</td>\n",
       "    </tr>\n",
       "    <tr>\n",
       "      <th>4</th>\n",
       "      <td>00007889e4fcd2614b6cbe7f8f3d2e5c728eca32d9eb8a...</td>\n",
       "      <td>0</td>\n",
       "    </tr>\n",
       "  </tbody>\n",
       "</table>\n",
       "</div>"
      ],
      "text/plain": [
       "                                         customer_ID  target\n",
       "0  0000099d6bd597052cdcda90ffabf56573fe9d7c79be5f...       0\n",
       "1  00000fd6641609c6ece5454664794f0340ad84dddce9a2...       0\n",
       "2  00001b22f846c82c51f6e3958ccd81970162bae8b007e8...       0\n",
       "3  000041bdba6ecadd89a52d11886e8eaaec9325906c9723...       0\n",
       "4  00007889e4fcd2614b6cbe7f8f3d2e5c728eca32d9eb8a...       0"
      ]
     },
     "execution_count": 293,
     "metadata": {},
     "output_type": "execute_result"
    }
   ],
   "source": [
    "trueeee = pd.read_csv('/kaggle/input/amex-default-prediction/train_labels.csv')\n",
    "trueeee.head()"
   ]
  },
  {
   "cell_type": "code",
   "execution_count": 294,
   "metadata": {
    "execution": {
     "iopub.execute_input": "2023-01-16T12:29:52.779931Z",
     "iopub.status.busy": "2023-01-16T12:29:52.779156Z",
     "iopub.status.idle": "2023-01-16T12:29:52.804823Z",
     "shell.execute_reply": "2023-01-16T12:29:52.802233Z",
     "shell.execute_reply.started": "2023-01-16T12:29:52.779841Z"
    }
   },
   "outputs": [
    {
     "data": {
      "text/html": [
       "<div>\n",
       "<style scoped>\n",
       "    .dataframe tbody tr th:only-of-type {\n",
       "        vertical-align: middle;\n",
       "    }\n",
       "\n",
       "    .dataframe tbody tr th {\n",
       "        vertical-align: top;\n",
       "    }\n",
       "\n",
       "    .dataframe thead th {\n",
       "        text-align: right;\n",
       "    }\n",
       "</style>\n",
       "<table border=\"1\" class=\"dataframe\">\n",
       "  <thead>\n",
       "    <tr style=\"text-align: right;\">\n",
       "      <th></th>\n",
       "      <th>feature</th>\n",
       "      <th>imp</th>\n",
       "    </tr>\n",
       "  </thead>\n",
       "  <tbody>\n",
       "    <tr>\n",
       "      <th>0</th>\n",
       "      <td>P_2</td>\n",
       "      <td>0.271236</td>\n",
       "    </tr>\n",
       "    <tr>\n",
       "      <th>1</th>\n",
       "      <td>D_39</td>\n",
       "      <td>0.011424</td>\n",
       "    </tr>\n",
       "    <tr>\n",
       "      <th>2</th>\n",
       "      <td>B_1</td>\n",
       "      <td>0.094979</td>\n",
       "    </tr>\n",
       "    <tr>\n",
       "      <th>3</th>\n",
       "      <td>B_2</td>\n",
       "      <td>0.034476</td>\n",
       "    </tr>\n",
       "    <tr>\n",
       "      <th>4</th>\n",
       "      <td>R_1</td>\n",
       "      <td>0.030776</td>\n",
       "    </tr>\n",
       "  </tbody>\n",
       "</table>\n",
       "</div>"
      ],
      "text/plain": [
       "  feature       imp\n",
       "0     P_2  0.271236\n",
       "1    D_39  0.011424\n",
       "2     B_1  0.094979\n",
       "3     B_2  0.034476\n",
       "4     R_1  0.030776"
      ]
     },
     "execution_count": 294,
     "metadata": {},
     "output_type": "execute_result"
    }
   ],
   "source": [
    "feat_imp_df.head(5)"
   ]
  },
  {
   "cell_type": "code",
   "execution_count": 295,
   "metadata": {
    "execution": {
     "iopub.execute_input": "2023-01-16T12:29:52.808397Z",
     "iopub.status.busy": "2023-01-16T12:29:52.807558Z",
     "iopub.status.idle": "2023-01-16T12:29:52.820903Z",
     "shell.execute_reply": "2023-01-16T12:29:52.817535Z",
     "shell.execute_reply.started": "2023-01-16T12:29:52.808321Z"
    }
   },
   "outputs": [],
   "source": [
    "# feat_imp_df = pd.DataFrame(columns = ['feature','imp'])\n",
    "# feat_imp_df['feature'] = (train_dataset.columns)\n",
    "# feat_imp_df['imp'] = feature_importances\n",
    "# feat_imp_df"
   ]
  },
  {
   "cell_type": "code",
   "execution_count": 296,
   "metadata": {
    "execution": {
     "iopub.execute_input": "2023-01-16T12:29:52.825283Z",
     "iopub.status.busy": "2023-01-16T12:29:52.824356Z",
     "iopub.status.idle": "2023-01-16T12:29:52.841996Z",
     "shell.execute_reply": "2023-01-16T12:29:52.837971Z",
     "shell.execute_reply.started": "2023-01-16T12:29:52.825200Z"
    }
   },
   "outputs": [],
   "source": [
    "# feat_imp_df.to_csv('feature_importances.csv', index=False)"
   ]
  },
  {
   "cell_type": "code",
   "execution_count": 297,
   "metadata": {
    "execution": {
     "iopub.execute_input": "2023-01-16T12:29:52.848690Z",
     "iopub.status.busy": "2023-01-16T12:29:52.846123Z",
     "iopub.status.idle": "2023-01-16T12:29:52.860921Z",
     "shell.execute_reply": "2023-01-16T12:29:52.858033Z",
     "shell.execute_reply.started": "2023-01-16T12:29:52.848536Z"
    }
   },
   "outputs": [],
   "source": [
    "# # for col,score in zip(train_dataset.columns,selector_model.feature_importances_):\n",
    "# #     print(col,score)\n",
    "\n",
    "# col_id_map = {}\n",
    "# for col_id, col_name in enumerate(train_dataset.columns):\n",
    "#     col_id_map[col_id] = col_name\n",
    "# print(col_id_map)\n",
    "\n",
    "# top_features_names= [col_id_map[col_id] for col_id in top_k_features[:100]]"
   ]
  },
  {
   "cell_type": "code",
   "execution_count": 298,
   "metadata": {
    "execution": {
     "iopub.execute_input": "2023-01-16T12:29:52.865279Z",
     "iopub.status.busy": "2023-01-16T12:29:52.864347Z",
     "iopub.status.idle": "2023-01-16T12:29:52.877760Z",
     "shell.execute_reply": "2023-01-16T12:29:52.874775Z",
     "shell.execute_reply.started": "2023-01-16T12:29:52.865187Z"
    }
   },
   "outputs": [],
   "source": [
    "# feat_imp_df = feat_imp_df.sort_values(by=['imp'], ascending=False)\n",
    "# feat_imp_df.head()"
   ]
  },
  {
   "cell_type": "code",
   "execution_count": 299,
   "metadata": {
    "execution": {
     "iopub.execute_input": "2023-01-16T12:29:52.883484Z",
     "iopub.status.busy": "2023-01-16T12:29:52.882317Z",
     "iopub.status.idle": "2023-01-16T12:29:52.895874Z",
     "shell.execute_reply": "2023-01-16T12:29:52.892872Z",
     "shell.execute_reply.started": "2023-01-16T12:29:52.883372Z"
    }
   },
   "outputs": [],
   "source": [
    "number_of_features = 206"
   ]
  },
  {
   "cell_type": "code",
   "execution_count": 300,
   "metadata": {
    "execution": {
     "iopub.execute_input": "2023-01-16T12:29:52.899726Z",
     "iopub.status.busy": "2023-01-16T12:29:52.898840Z",
     "iopub.status.idle": "2023-01-16T12:29:52.913370Z",
     "shell.execute_reply": "2023-01-16T12:29:52.910942Z",
     "shell.execute_reply.started": "2023-01-16T12:29:52.899646Z"
    }
   },
   "outputs": [],
   "source": [
    "top_features_names = feat_imp_df['feature'].values[:number_of_features]"
   ]
  },
  {
   "cell_type": "code",
   "execution_count": 301,
   "metadata": {
    "execution": {
     "iopub.execute_input": "2023-01-16T12:29:52.916252Z",
     "iopub.status.busy": "2023-01-16T12:29:52.915588Z",
     "iopub.status.idle": "2023-01-16T12:29:52.937187Z",
     "shell.execute_reply": "2023-01-16T12:29:52.933210Z",
     "shell.execute_reply.started": "2023-01-16T12:29:52.916163Z"
    }
   },
   "outputs": [],
   "source": [
    "# ['R_8', 'R_16', 'R_15', 'B_33', 'R_4', 'S_22', 'D_78', 'D_117_-1.0', 'D_125', 'S_13', 'D_104', 'D_83', 'R_10', 'R_24', 'D_86', 'D_107', 'R_20', 'D_127', 'D_80', 'D_139', 'R_14', 'S_27', 'D_141', 'D_69', 'D_113', 'D_68_3.0', 'D_96', 'R_17', 'B_15', 'B_38_7.0', 'D_102', 'D_105', 'B_30_2.0', 'B_41', 'D_91', 'S_6', 'R_6', 'D_129', 'D_75', 'D_145', 'D_58', 'D_72', 'D_115', 'D_144', 'D_61', 'D_70', 'D_65', 'S_12', 'D_74', 'D_55', 'D_128', 'B_28', 'D_117_3.0', 'D_103', 'D_124', 'B_40', 'B_12', 'D_140', 'S_25', 'B_8', 'B_25', 'B_21', 'D_117_6.0', 'R_11', 'B_13', 'D_68_2.0', 'B_24', 'S_16', 'D_118', 'D_119', 'R_12', 'B_6', 'B_19', 'D_117_2.0', 'D_52', 'D_143', 'S_15', 'D_122', 'D_71', 'P_4', 'D_62', 'B_16', 'S_11', 'D_60', 'B_36', 'S_5', 'S_8', 'R_7', 'D_53', 'B_14', 'D_121', 'S_9', 'B_17', 'D_117_1.0', 'B_20', 'D_59', 'D_117_5.0', 'S_7', 'B_26', 'D_82']"
   ]
  },
  {
   "cell_type": "code",
   "execution_count": 302,
   "metadata": {
    "execution": {
     "iopub.execute_input": "2023-01-16T12:29:52.944818Z",
     "iopub.status.busy": "2023-01-16T12:29:52.940952Z",
     "iopub.status.idle": "2023-01-16T12:29:52.954565Z",
     "shell.execute_reply": "2023-01-16T12:29:52.952422Z",
     "shell.execute_reply.started": "2023-01-16T12:29:52.944668Z"
    }
   },
   "outputs": [],
   "source": [
    "# train_dataset = train_dataset[top_features_names]\n",
    "# test_dataset = test_dataset[top_features_names]"
   ]
  },
  {
   "cell_type": "code",
   "execution_count": 303,
   "metadata": {
    "execution": {
     "iopub.execute_input": "2023-01-16T12:29:52.959432Z",
     "iopub.status.busy": "2023-01-16T12:29:52.958265Z",
     "iopub.status.idle": "2023-01-16T12:29:52.973557Z",
     "shell.execute_reply": "2023-01-16T12:29:52.970737Z",
     "shell.execute_reply.started": "2023-01-16T12:29:52.959335Z"
    }
   },
   "outputs": [
    {
     "name": "stdout",
     "output_type": "stream",
     "text": [
      "(924621, 206)\n",
      "(458913, 206)\n"
     ]
    }
   ],
   "source": [
    "print(test_dataset.shape)\n",
    "print(train_dataset.shape)"
   ]
  },
  {
   "cell_type": "code",
   "execution_count": 304,
   "metadata": {
    "execution": {
     "iopub.execute_input": "2023-01-16T12:29:52.979147Z",
     "iopub.status.busy": "2023-01-16T12:29:52.978302Z",
     "iopub.status.idle": "2023-01-16T12:29:52.991027Z",
     "shell.execute_reply": "2023-01-16T12:29:52.988816Z",
     "shell.execute_reply.started": "2023-01-16T12:29:52.979103Z"
    }
   },
   "outputs": [],
   "source": [
    "from sklearn.model_selection import train_test_split"
   ]
  },
  {
   "cell_type": "code",
   "execution_count": 305,
   "metadata": {
    "execution": {
     "iopub.execute_input": "2023-01-16T12:29:52.996151Z",
     "iopub.status.busy": "2023-01-16T12:29:52.994522Z",
     "iopub.status.idle": "2023-01-16T12:29:55.334063Z",
     "shell.execute_reply": "2023-01-16T12:29:55.331041Z",
     "shell.execute_reply.started": "2023-01-16T12:29:52.996061Z"
    }
   },
   "outputs": [],
   "source": [
    "X_train, X_test, y_train, y_test = train_test_split( train_dataset, y, test_size=0.3, random_state=68)"
   ]
  },
  {
   "cell_type": "code",
   "execution_count": 306,
   "metadata": {
    "execution": {
     "iopub.execute_input": "2023-01-16T12:29:55.338938Z",
     "iopub.status.busy": "2023-01-16T12:29:55.338073Z",
     "iopub.status.idle": "2023-01-16T12:29:55.401717Z",
     "shell.execute_reply": "2023-01-16T12:29:55.397803Z",
     "shell.execute_reply.started": "2023-01-16T12:29:55.338892Z"
    }
   },
   "outputs": [],
   "source": [
    "test_dataset_v1 = test_dataset"
   ]
  },
  {
   "cell_type": "code",
   "execution_count": 307,
   "metadata": {
    "execution": {
     "iopub.execute_input": "2023-01-16T12:29:55.406799Z",
     "iopub.status.busy": "2023-01-16T12:29:55.406280Z",
     "iopub.status.idle": "2023-01-16T12:29:55.420600Z",
     "shell.execute_reply": "2023-01-16T12:29:55.415620Z",
     "shell.execute_reply.started": "2023-01-16T12:29:55.406756Z"
    }
   },
   "outputs": [
    {
     "name": "stdout",
     "output_type": "stream",
     "text": [
      "(321239, 206)\n",
      "(137674, 206)\n",
      "(924621, 206)\n"
     ]
    }
   ],
   "source": [
    "print(X_train.shape)\n",
    "print(X_test.shape)\n",
    "print(test_dataset_v1.shape)"
   ]
  },
  {
   "cell_type": "code",
   "execution_count": 308,
   "metadata": {
    "execution": {
     "iopub.execute_input": "2023-01-16T12:29:55.425411Z",
     "iopub.status.busy": "2023-01-16T12:29:55.424766Z",
     "iopub.status.idle": "2023-01-16T12:29:55.450644Z",
     "shell.execute_reply": "2023-01-16T12:29:55.447786Z",
     "shell.execute_reply.started": "2023-01-16T12:29:55.425340Z"
    }
   },
   "outputs": [
    {
     "data": {
      "text/plain": [
       "0    237939\n",
       "1     83300\n",
       "Name: target, dtype: int64"
      ]
     },
     "execution_count": 308,
     "metadata": {},
     "output_type": "execute_result"
    }
   ],
   "source": [
    "y_train.value_counts()"
   ]
  },
  {
   "cell_type": "code",
   "execution_count": 309,
   "metadata": {
    "execution": {
     "iopub.execute_input": "2023-01-16T12:29:55.455849Z",
     "iopub.status.busy": "2023-01-16T12:29:55.454691Z",
     "iopub.status.idle": "2023-01-16T12:29:55.482115Z",
     "shell.execute_reply": "2023-01-16T12:29:55.477582Z",
     "shell.execute_reply.started": "2023-01-16T12:29:55.455703Z"
    }
   },
   "outputs": [
    {
     "data": {
      "text/plain": [
       "237939"
      ]
     },
     "execution_count": 309,
     "metadata": {},
     "output_type": "execute_result"
    }
   ],
   "source": [
    "y_train.value_counts()[0]"
   ]
  },
  {
   "cell_type": "code",
   "execution_count": 310,
   "metadata": {
    "execution": {
     "iopub.execute_input": "2023-01-16T12:29:55.489616Z",
     "iopub.status.busy": "2023-01-16T12:29:55.488254Z",
     "iopub.status.idle": "2023-01-16T12:29:55.533667Z",
     "shell.execute_reply": "2023-01-16T12:29:55.531351Z",
     "shell.execute_reply.started": "2023-01-16T12:29:55.489512Z"
    }
   },
   "outputs": [],
   "source": [
    "scale_pos_weight = (y_train.value_counts()[0])/(y_train.value_counts()[1])\n",
    "scale_pos_weight_full = (y.value_counts()[0])/(y.value_counts()[1])"
   ]
  },
  {
   "cell_type": "code",
   "execution_count": 311,
   "metadata": {
    "execution": {
     "iopub.execute_input": "2023-01-16T12:29:55.536587Z",
     "iopub.status.busy": "2023-01-16T12:29:55.535814Z",
     "iopub.status.idle": "2023-01-16T12:29:55.553383Z",
     "shell.execute_reply": "2023-01-16T12:29:55.551233Z",
     "shell.execute_reply.started": "2023-01-16T12:29:55.536518Z"
    }
   },
   "outputs": [
    {
     "data": {
      "text/plain": [
       "2.85641056422569"
      ]
     },
     "execution_count": 311,
     "metadata": {},
     "output_type": "execute_result"
    }
   ],
   "source": [
    "scale_pos_weight"
   ]
  },
  {
   "cell_type": "code",
   "execution_count": 312,
   "metadata": {
    "execution": {
     "iopub.execute_input": "2023-01-16T12:29:55.557981Z",
     "iopub.status.busy": "2023-01-16T12:29:55.555938Z",
     "iopub.status.idle": "2023-01-16T12:29:55.803359Z",
     "shell.execute_reply": "2023-01-16T12:29:55.800040Z",
     "shell.execute_reply.started": "2023-01-16T12:29:55.557910Z"
    }
   },
   "outputs": [
    {
     "data": {
      "text/plain": [
       "P_2              False\n",
       "D_39             False\n",
       "B_1              False\n",
       "B_2              False\n",
       "R_1              False\n",
       "                 ...  \n",
       "D_120_1.0        False\n",
       "D_120_unknown    False\n",
       "D_126_-1.0       False\n",
       "D_126_0.0        False\n",
       "D_126_1.0        False\n",
       "Length: 206, dtype: bool"
      ]
     },
     "execution_count": 312,
     "metadata": {},
     "output_type": "execute_result"
    }
   ],
   "source": [
    "X_train.isna().any()"
   ]
  },
  {
   "cell_type": "code",
   "execution_count": 313,
   "metadata": {
    "execution": {
     "iopub.execute_input": "2023-01-16T12:29:55.807055Z",
     "iopub.status.busy": "2023-01-16T12:29:55.806433Z",
     "iopub.status.idle": "2023-01-16T12:29:55.820032Z",
     "shell.execute_reply": "2023-01-16T12:29:55.816158Z",
     "shell.execute_reply.started": "2023-01-16T12:29:55.806962Z"
    }
   },
   "outputs": [],
   "source": [
    "# from imblearn.over_sampling import SMOTE\n",
    "# oversample = SMOTE()\n",
    "# X_train, y_train = oversample.fit_resample(X_train, y_train)"
   ]
  },
  {
   "cell_type": "code",
   "execution_count": 314,
   "metadata": {
    "execution": {
     "iopub.execute_input": "2023-01-16T12:29:55.825584Z",
     "iopub.status.busy": "2023-01-16T12:29:55.823901Z",
     "iopub.status.idle": "2023-01-16T12:34:17.902216Z",
     "shell.execute_reply": "2023-01-16T12:34:17.900541Z",
     "shell.execute_reply.started": "2023-01-16T12:29:55.825494Z"
    }
   },
   "outputs": [],
   "source": [
    "#Oversampling the minority class to solve class imbalance\n",
    "from imblearn.over_sampling import SMOTE\n",
    "oversample = SMOTE()\n",
    "train_dataset, y = oversample.fit_resample(train_dataset, y)"
   ]
  },
  {
   "cell_type": "markdown",
   "metadata": {},
   "source": [
    "## Model Training"
   ]
  },
  {
   "cell_type": "code",
   "execution_count": 252,
   "metadata": {
    "execution": {
     "iopub.execute_input": "2023-01-16T11:46:25.474014Z",
     "iopub.status.busy": "2023-01-16T11:46:25.473562Z",
     "iopub.status.idle": "2023-01-16T12:01:05.669830Z",
     "shell.execute_reply": "2023-01-16T12:01:05.667926Z",
     "shell.execute_reply.started": "2023-01-16T11:46:25.473981Z"
    }
   },
   "outputs": [],
   "source": [
    "#SVM classifier - Linear\n",
    "from sklearn.preprocessing import MinMaxScaler\n",
    "\n",
    "scaler = MinMaxScaler(feature_range=(-1,1)).fit(train_dataset)\n",
    "train_dataset = scaler.transform(train_dataset)\n",
    "test_dataset_v1 = scaler.transform(test_dataset_v1)\n",
    "\n",
    "from sklearn.svm import LinearSVC\n",
    "\n",
    "clf = LinearSVC(random_state=0, tol=1e-5)\n",
    "\n",
    "clf.fit(train_dataset, y.ravel())\n",
    "\n",
    "predictions_svc = clf._predict_proba_lr(test_dataset_v1)\n",
    "\n",
    "predictions_svc = predictions_svc[:,1]\n",
    "sample_dataset = pd.read_csv('/kaggle/input/amex-default-prediction/sample_submission.csv')\n",
    "output = pd.DataFrame({'customer_ID': sample_dataset.customer_ID, 'prediction': predictions_svc})\n",
    "output.to_csv('Submission SVM full.csv', index=False)\n"
   ]
  },
  {
   "cell_type": "code",
   "execution_count": 315,
   "metadata": {
    "execution": {
     "iopub.execute_input": "2023-01-16T12:34:17.930713Z",
     "iopub.status.busy": "2023-01-16T12:34:17.930374Z",
     "iopub.status.idle": "2023-01-16T12:50:43.243185Z",
     "shell.execute_reply": "2023-01-16T12:50:43.241351Z",
     "shell.execute_reply.started": "2023-01-16T12:34:17.930688Z"
    }
   },
   "outputs": [
    {
     "data": {
      "text/plain": [
       "Index(['P_2', 'B_1', 'B_2', 'B_3', 'D_44', 'B_4', 'D_48', 'B_7', 'B_9', 'B_10',\n",
       "       'B_11', 'D_61', 'B_16', 'B_18', 'B_19', 'B_20', 'B_23', 'D_74', 'D_75',\n",
       "       'B_37'],\n",
       "      dtype='object')"
      ]
     },
     "execution_count": 315,
     "metadata": {},
     "output_type": "execute_result"
    }
   ],
   "source": [
    "#feature selection to reduce dimensionality for knn\n",
    "from sklearn.feature_selection import SelectKBest, mutual_info_classif\n",
    "\n",
    "selector = SelectKBest(mutual_info_classif, k=20)\n",
    "selector.fit(train_dataset, y)\n",
    "mask = selector.get_support()\n",
    "new_features = train_dataset.columns[mask]\n",
    "new_features"
   ]
  },
  {
   "cell_type": "code",
   "execution_count": 316,
   "metadata": {
    "execution": {
     "iopub.execute_input": "2023-01-16T12:50:43.245475Z",
     "iopub.status.busy": "2023-01-16T12:50:43.245097Z",
     "iopub.status.idle": "2023-01-16T12:50:44.783883Z",
     "shell.execute_reply": "2023-01-16T12:50:44.782237Z",
     "shell.execute_reply.started": "2023-01-16T12:50:43.245419Z"
    }
   },
   "outputs": [],
   "source": [
    "train_dataset = selector.transform(train_dataset)\n",
    "test_dataset_v1 = selector.transform(test_dataset_v1)"
   ]
  },
  {
   "cell_type": "code",
   "execution_count": 318,
   "metadata": {
    "execution": {
     "iopub.execute_input": "2023-01-16T12:50:44.875937Z",
     "iopub.status.busy": "2023-01-16T12:50:44.875586Z",
     "iopub.status.idle": "2023-01-16T12:50:44.888297Z",
     "shell.execute_reply": "2023-01-16T12:50:44.886682Z",
     "shell.execute_reply.started": "2023-01-16T12:50:44.875904Z"
    }
   },
   "outputs": [
    {
     "data": {
      "text/plain": [
       "((680170, 20), (924621, 20))"
      ]
     },
     "execution_count": 318,
     "metadata": {},
     "output_type": "execute_result"
    }
   ],
   "source": [
    "train_dataset.shape, test_dataset_v1.shape"
   ]
  },
  {
   "cell_type": "code",
   "execution_count": null,
   "metadata": {
    "execution": {
     "iopub.execute_input": "2023-01-16T12:54:38.449991Z",
     "iopub.status.busy": "2023-01-16T12:54:38.448902Z"
    }
   },
   "outputs": [],
   "source": [
    "#Knn classifier\n",
    "\n",
    "from sklearn.neighbors import KNeighborsClassifier\n",
    "knn_clf = KNeighborsClassifier(n_neighbors=3)\n",
    "\n",
    "knn_clf.fit(train_dataset, y)\n",
    "predictions_knn = knn_clf.predict_proba(test_dataset_v1)\n",
    "\n",
    "predictions_knn = predictions_knn[:,1]\n",
    "sample_dataset = pd.read_csv('/kaggle/input/amex-default-prediction/sample_submission.csv')\n",
    "output = pd.DataFrame({'customer_ID': sample_dataset.customer_ID, 'prediction': predictions_knn})\n",
    "output.to_csv('Submission KNN full.csv', index=False)"
   ]
  },
  {
   "cell_type": "code",
   "execution_count": 61,
   "metadata": {
    "execution": {
     "iopub.execute_input": "2023-01-16T08:36:38.703248Z",
     "iopub.status.busy": "2023-01-16T08:36:38.702410Z",
     "iopub.status.idle": "2023-01-16T08:36:38.712976Z",
     "shell.execute_reply": "2023-01-16T08:36:38.712005Z",
     "shell.execute_reply.started": "2023-01-16T08:36:38.703200Z"
    }
   },
   "outputs": [],
   "source": [
    "import xgboost as xgb\n",
    "from sklearn.neighbors import KNeighborsClassifier"
   ]
  },
  {
   "cell_type": "code",
   "execution_count": 62,
   "metadata": {
    "execution": {
     "iopub.execute_input": "2023-01-16T08:36:38.715513Z",
     "iopub.status.busy": "2023-01-16T08:36:38.714409Z",
     "iopub.status.idle": "2023-01-16T08:36:38.724814Z",
     "shell.execute_reply": "2023-01-16T08:36:38.723880Z",
     "shell.execute_reply.started": "2023-01-16T08:36:38.715476Z"
    }
   },
   "outputs": [],
   "source": [
    "final_model = xgb.XGBClassifier(n_estimators = 500, \n",
    "                                objective = 'reg:logistic', \n",
    "                                seed = 69, \n",
    "#                                 scale_pos_weight = scale_pos_weight,\n",
    "                                colsample_bytree=0.8,\n",
    "#                                 min_child_weight=3,\n",
    "                                max_depth = 5,\n",
    "                                subsample = 0.8,\n",
    "                               learning_rate = 0.1)"
   ]
  },
  {
   "cell_type": "code",
   "execution_count": 63,
   "metadata": {
    "execution": {
     "iopub.execute_input": "2023-01-16T08:36:38.727094Z",
     "iopub.status.busy": "2023-01-16T08:36:38.726015Z",
     "iopub.status.idle": "2023-01-16T08:36:38.737612Z",
     "shell.execute_reply": "2023-01-16T08:36:38.736485Z",
     "shell.execute_reply.started": "2023-01-16T08:36:38.727038Z"
    }
   },
   "outputs": [],
   "source": [
    "# final_model = KNeighborsClassifier(n_neighbors=5)"
   ]
  },
  {
   "cell_type": "code",
   "execution_count": 64,
   "metadata": {
    "execution": {
     "iopub.execute_input": "2023-01-16T08:36:38.739896Z",
     "iopub.status.busy": "2023-01-16T08:36:38.739150Z",
     "iopub.status.idle": "2023-01-16T08:36:38.751667Z",
     "shell.execute_reply": "2023-01-16T08:36:38.750461Z",
     "shell.execute_reply.started": "2023-01-16T08:36:38.739852Z"
    }
   },
   "outputs": [],
   "source": [
    "# final_model.fit(X_train, y_train)"
   ]
  },
  {
   "cell_type": "code",
   "execution_count": 65,
   "metadata": {
    "execution": {
     "iopub.execute_input": "2023-01-16T08:36:38.754666Z",
     "iopub.status.busy": "2023-01-16T08:36:38.753295Z",
     "iopub.status.idle": "2023-01-16T09:04:48.507039Z",
     "shell.execute_reply": "2023-01-16T09:04:48.505098Z",
     "shell.execute_reply.started": "2023-01-16T08:36:38.754617Z"
    }
   },
   "outputs": [
    {
     "data": {
      "text/plain": [
       "XGBClassifier(base_score=0.5, booster='gbtree', callbacks=None,\n",
       "              colsample_bylevel=1, colsample_bynode=1, colsample_bytree=0.8,\n",
       "              early_stopping_rounds=None, enable_categorical=False,\n",
       "              eval_metric=None, gamma=0, gpu_id=-1, grow_policy='depthwise',\n",
       "              importance_type=None, interaction_constraints='',\n",
       "              learning_rate=0.1, max_bin=256, max_cat_to_onehot=4,\n",
       "              max_delta_step=0, max_depth=5, max_leaves=0, min_child_weight=1,\n",
       "              missing=nan, monotone_constraints='()', n_estimators=500,\n",
       "              n_jobs=0, num_parallel_tree=1, objective='reg:logistic',\n",
       "              predictor='auto', random_state=69, reg_alpha=0, ...)"
      ]
     },
     "execution_count": 65,
     "metadata": {},
     "output_type": "execute_result"
    }
   ],
   "source": [
    "final_model.fit(train_dataset, y)"
   ]
  },
  {
   "cell_type": "code",
   "execution_count": 66,
   "metadata": {
    "execution": {
     "iopub.execute_input": "2023-01-16T09:04:48.510638Z",
     "iopub.status.busy": "2023-01-16T09:04:48.509135Z",
     "iopub.status.idle": "2023-01-16T09:04:48.516968Z",
     "shell.execute_reply": "2023-01-16T09:04:48.515591Z",
     "shell.execute_reply.started": "2023-01-16T09:04:48.510576Z"
    }
   },
   "outputs": [],
   "source": [
    "# p = final_model.predict_proba(X_test)"
   ]
  },
  {
   "cell_type": "code",
   "execution_count": null,
   "metadata": {},
   "outputs": [],
   "source": [
    "## Model Evaluation"
   ]
  },
  {
   "cell_type": "code",
   "execution_count": 67,
   "metadata": {
    "_kg_hide-input": false,
    "execution": {
     "iopub.execute_input": "2023-01-16T09:04:48.519735Z",
     "iopub.status.busy": "2023-01-16T09:04:48.518716Z",
     "iopub.status.idle": "2023-01-16T09:04:48.534223Z",
     "shell.execute_reply": "2023-01-16T09:04:48.533048Z",
     "shell.execute_reply.started": "2023-01-16T09:04:48.519697Z"
    }
   },
   "outputs": [],
   "source": [
    "def amex_metric(y_true: pd.DataFrame, y_pred: pd.DataFrame) -> float:\n",
    "\n",
    "    def top_four_percent_captured(y_true: pd.DataFrame, y_pred: pd.DataFrame) -> float:\n",
    "        df = (pd.concat([y_true, y_pred], axis='columns')\n",
    "              .sort_values('prediction', ascending=False))\n",
    "        df['weight'] = df['target'].apply(lambda x: 20 if x==0 else 1)\n",
    "        four_pct_cutoff = int(0.04 * df['weight'].sum())\n",
    "        df['weight_cumsum'] = df['weight'].cumsum()\n",
    "        df_cutoff = df.loc[df['weight_cumsum'] <= four_pct_cutoff]\n",
    "        return (df_cutoff['target'] == 1).sum() / (df['target'] == 1).sum()\n",
    "        \n",
    "    def weighted_gini(y_true: pd.DataFrame, y_pred: pd.DataFrame) -> float:\n",
    "        df = (pd.concat([y_true, y_pred], axis='columns')\n",
    "              .sort_values('prediction', ascending=False))\n",
    "        df['weight'] = df['target'].apply(lambda x: 20 if x==0 else 1)\n",
    "        df['random'] = (df['weight'] / df['weight'].sum()).cumsum()\n",
    "        total_pos = (df['target'] * df['weight']).sum()\n",
    "        df['cum_pos_found'] = (df['target'] * df['weight']).cumsum()\n",
    "        df['lorentz'] = df['cum_pos_found'] / total_pos\n",
    "        df['gini'] = (df['lorentz'] - df['random']) * df['weight']\n",
    "        return df['gini'].sum()\n",
    "\n",
    "    def normalized_weighted_gini(y_true: pd.DataFrame, y_pred: pd.DataFrame) -> float:\n",
    "        y_true_pred = y_true.rename(columns={'target': 'prediction'})\n",
    "        return weighted_gini(y_true, y_pred) / weighted_gini(y_true, y_true_pred)\n",
    "\n",
    "    g = normalized_weighted_gini(y_true, y_pred)\n",
    "    d = top_four_percent_captured(y_true, y_pred)\n",
    "\n",
    "    return 0.5 * (g + d)"
   ]
  },
  {
   "cell_type": "code",
   "execution_count": 68,
   "metadata": {
    "execution": {
     "iopub.execute_input": "2023-01-16T09:04:48.536344Z",
     "iopub.status.busy": "2023-01-16T09:04:48.535756Z",
     "iopub.status.idle": "2023-01-16T09:04:48.553628Z",
     "shell.execute_reply": "2023-01-16T09:04:48.552407Z",
     "shell.execute_reply.started": "2023-01-16T09:04:48.536311Z"
    }
   },
   "outputs": [],
   "source": [
    "\n",
    "p_v1 = p[:,1].reshape(-1,1)\n",
    "\n",
    "y_pred = pd.DataFrame(p_v1, columns = ['prediction'])\n",
    "# y_pred.head()\n",
    "\n",
    "y_true = y_test.to_frame(name = 'target')\n",
    "y_true = y_true.reset_index(drop=True)\n",
    "# y_true.head()\n",
    "\n",
    "from sklearn.metrics import roc_curve, roc_auc_score\n",
    "roc_auc_score(y_test, p_v1)\n",
    "\n",
    "amex_metric(y_true, y_pred)"
   ]
  },
  {
   "cell_type": "markdown",
   "metadata": {},
   "source": [
    "0.7634980539964447\n",
    "0.7637116591259403\n",
    "0.7712345331426667 - best 150"
   ]
  },
  {
   "cell_type": "markdown",
   "metadata": {},
   "source": [
    "0.9485239523284494\n",
    "0.956661835314092"
   ]
  },
  {
   "cell_type": "code",
   "execution_count": 69,
   "metadata": {
    "execution": {
     "iopub.execute_input": "2023-01-16T09:04:48.556025Z",
     "iopub.status.busy": "2023-01-16T09:04:48.555535Z",
     "iopub.status.idle": "2023-01-16T09:04:48.567178Z",
     "shell.execute_reply": "2023-01-16T09:04:48.565968Z",
     "shell.execute_reply.started": "2023-01-16T09:04:48.555986Z"
    }
   },
   "outputs": [],
   "source": [
    "#plotting roc curve\n",
    "def plot_roc(y_true, y_score, label_name, ax):\n",
    "    fpr, tpr, thresholds = roc_curve(y_true, y_score)\n",
    "    ax.plot(fpr, tpr)\n",
    "    ax.plot([0, 1], [0, 1], color='grey', linestyle='--')\n",
    "    ax.set_ylabel('TPR')\n",
    "    ax.set_xlabel('FPR')\n",
    "    ax.set_title(\n",
    "        f\"{label_name}: AUC = {roc_auc_score(y_true, y_score):.4f}\"\n",
    "    )\n",
    "\n",
    "\n",
    "fig, ax = plt.subplots(1, 1, figsize=(10, 8))\n",
    "plot_roc(\n",
    "    y_test, \n",
    "    p_v1, \n",
    "    'y',\n",
    "    ax=ax\n",
    ")"
   ]
  },
  {
   "cell_type": "code",
   "execution_count": 70,
   "metadata": {
    "execution": {
     "iopub.execute_input": "2023-01-16T09:04:48.569498Z",
     "iopub.status.busy": "2023-01-16T09:04:48.568991Z",
     "iopub.status.idle": "2023-01-16T09:05:07.155590Z",
     "shell.execute_reply": "2023-01-16T09:05:07.153725Z",
     "shell.execute_reply.started": "2023-01-16T09:04:48.569452Z"
    }
   },
   "outputs": [],
   "source": [
    "predictions = final_model.predict_proba(test_dataset_v1)\n",
    "predictions\n",
    "\n",
    "predictions = predictions[:,1]\n",
    "\n",
    "sample_dataset = pd.read_csv('/kaggle/input/amex-default-prediction/sample_submission.csv')\n",
    "output = pd.DataFrame({'customer_ID': sample_dataset.customer_ID, 'prediction': predictions})\n",
    "output.to_csv('submission_v5.csv', index=False)"
   ]
  },
  {
   "cell_type": "code",
   "execution_count": null,
   "metadata": {},
   "outputs": [],
   "source": []
  }
 ],
 "metadata": {
  "kernelspec": {
   "display_name": "Python 3 (ipykernel)",
   "language": "python",
   "name": "python3"
  },
  "language_info": {
   "codemirror_mode": {
    "name": "ipython",
    "version": 3
   },
   "file_extension": ".py",
   "mimetype": "text/x-python",
   "name": "python",
   "nbconvert_exporter": "python",
   "pygments_lexer": "ipython3",
   "version": "3.8.8"
  }
 },
 "nbformat": 4,
 "nbformat_minor": 4
}
